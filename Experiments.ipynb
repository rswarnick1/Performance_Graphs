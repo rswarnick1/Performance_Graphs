{
 "cells": [
  {
   "cell_type": "code",
   "execution_count": 1,
   "metadata": {},
   "outputs": [],
   "source": [
    "import numpy as np\n",
    "import matplotlib.pyplot as plt\n",
    "import seaborn as sn \n",
    "import scipy.stats as stats\n",
    "import scipy as sp \n",
    "\n",
    "from TaxonomyNodeClass import TaxonomyNode"
   ]
  },
  {
   "cell_type": "code",
   "execution_count": 2,
   "metadata": {},
   "outputs": [],
   "source": [
    "np.random.seed(42)"
   ]
  },
  {
   "cell_type": "code",
   "execution_count": 3,
   "metadata": {},
   "outputs": [],
   "source": [
    "root = TaxonomyNode(\"root\")"
   ]
  },
  {
   "cell_type": "code",
   "execution_count": 4,
   "metadata": {},
   "outputs": [],
   "source": [
    "means_C_0 = stats.norm.rvs(loc=0,scale=10,size=8)\n",
    "means_C_1 = stats.norm.rvs(loc=0,scale=20,size=8)\n",
    "sd_C_0 = stats.gamma.rvs(a=2,scale=1,size=8)\n",
    "sd_C_1 = stats.gamma.rvs(a=10,scale=1,size=8)\n",
    "means_C = stats.beta.rvs( a=2,b=10,size=8)"
   ]
  },
  {
   "cell_type": "code",
   "execution_count": null,
   "metadata": {},
   "outputs": [],
   "source": []
  },
  {
   "cell_type": "code",
   "execution_count": 5,
   "metadata": {},
   "outputs": [],
   "source": [
    "sign= np.sign(means_C_1)\n",
    "direction = [\"greaterthan\" if d > 0 else \"lessthan\" for d in sign]\n",
    "eta = sign*(sd_C_1*3+ np.abs(means_C_1))"
   ]
  },
  {
   "cell_type": "code",
   "execution_count": 6,
   "metadata": {},
   "outputs": [],
   "source": [
    "# Create level 1 nodes\n",
    "node_a = TaxonomyNode(\"Node A\", parent=root)\n",
    "node_b = TaxonomyNode(\"Node B\", parent=root)\n",
    "# Create level 2 nodes\n",
    "node_a1 = TaxonomyNode(\"Node A1\", parent=node_a)\n",
    "node_a2 = TaxonomyNode(\"Node A2\", parent=node_a)\n",
    "node_b1 = TaxonomyNode(\"Node B1\", parent=node_b)    \n",
    "node_b2 = TaxonomyNode(\"Node B2\", parent=node_b)\n",
    "# Create level 3 nodes\n",
    "node_a1a = TaxonomyNode(\"Node A1a\", parent=node_a1, distribution_D_C = [stats.norm(loc=means_C_0[0], scale=sd_C_0[0]), stats.norm(loc=means_C_1[0], scale=sd_C_1[0])], distribution_C = stats.bernoulli(p=means_C[0]),eta=eta[0], direction = direction[0])\n",
    "node_a1b = TaxonomyNode(\"Node A1b\", parent=node_a1, distribution_D_C = [stats.norm(loc=means_C_1[1], scale=sd_C_0[1]), stats.norm(loc=means_C_1[1], scale=sd_C_1[1])], distribution_C = stats.bernoulli(p=means_C[0]),eta =eta[1], direction = direction[1])\n",
    "node_a2a = TaxonomyNode(\"Node A2a\", parent=node_a2, distribution_D_C = [stats.norm(loc=means_C_0[2], scale=sd_C_0[2]), stats.norm(loc=means_C_1[2], scale=sd_C_1[2])], distribution_C = stats.bernoulli(p=means_C[0]),eta =eta[2], direction = direction[2])\n",
    "node_a2b = TaxonomyNode(\"Node A2b\", parent=node_a2, distribution_D_C = [stats.norm(loc=means_C_0[3], scale=sd_C_0[3]), stats.norm(loc=means_C_1[3], scale=sd_C_1[3])], distribution_C = stats.bernoulli(p=means_C[0]),eta =eta[3], direction = direction[3])\n",
    "node_b1a = TaxonomyNode(\"Node B1a\", parent=node_b1, distribution_D_C = [stats.norm(loc=means_C_0[4], scale=sd_C_0[4]), stats.norm(loc=means_C_1[4], scale=sd_C_1[4])], distribution_C = stats.bernoulli(p=means_C[0]),eta =eta[4], direction = direction[4])\n",
    "node_b1b = TaxonomyNode(\"Node B1b\", parent=node_b1, distribution_D_C = [stats.norm(loc=means_C_0[5], scale=sd_C_0[5]), stats.norm(loc=means_C_1[5], scale=sd_C_1[5])], distribution_C = stats.bernoulli(p=means_C[0]),eta =eta[5], direction = direction[5])\n",
    "node_b2a = TaxonomyNode(\"Node B2a\", parent=node_b2, distribution_D_C = [stats.norm(loc=means_C_0[6], scale=sd_C_0[6]), stats.norm(loc=means_C_1[6], scale=sd_C_1[6])], distribution_C = stats.bernoulli(p=means_C[0]),eta =eta[6], direction = direction[6])\n",
    "node_b2b = TaxonomyNode(\"Node B2b\", parent=node_b2, distribution_D_C = [stats.norm(loc=means_C_0[7], scale=sd_C_0[7]), stats.norm(loc=means_C_1[7], scale=sd_C_1[7])], distribution_C = stats.bernoulli(p=means_C[0]),eta =eta[7], direction = direction[7])"
   ]
  },
  {
   "cell_type": "code",
   "execution_count": 7,
   "metadata": {},
   "outputs": [],
   "source": [
    "node_b1b.prec_recall_calc()"
   ]
  },
  {
   "cell_type": "code",
   "execution_count": 8,
   "metadata": {},
   "outputs": [
    {
     "data": {
      "text/plain": [
       "array([[8.51998282e-001, 1.47801931e-001],\n",
       "       [3.21938013e-297, 1.99787228e-004]])"
      ]
     },
     "execution_count": 8,
     "metadata": {},
     "output_type": "execute_result"
    }
   ],
   "source": [
    "node_b1b.probability_matrix"
   ]
  },
  {
   "cell_type": "code",
   "execution_count": 9,
   "metadata": {},
   "outputs": [
    {
     "data": {
      "text/plain": [
       "[None, None]"
      ]
     },
     "execution_count": 9,
     "metadata": {},
     "output_type": "execute_result"
    }
   ],
   "source": [
    "[child.set_distribution_C() for child in node_a.children]\n",
    "[child.set_distribution_C() for child in node_b.children]\n",
    "[child.set_distribution_D_C() for child in node_a.children]\n",
    "[child.set_distribution_D_C() for child in node_b.children]\n",
    "[child.set_distribution_C() for child in root.children]\n",
    "[child.set_distribution_D_C() for child in root.children]"
   ]
  },
  {
   "cell_type": "code",
   "execution_count": 10,
   "metadata": {},
   "outputs": [],
   "source": [
    "root.set_distribution_C()\n",
    "root.set_distribution_D_C()"
   ]
  },
  {
   "cell_type": "code",
   "execution_count": 11,
   "metadata": {},
   "outputs": [],
   "source": [
    "node_a.eta = 10\n",
    "node_b.eta = 6\n",
    "node_a.prec_recall_calc(direction=\"greaterthan\")\n",
    "node_b.prec_recall_calc(direction=\"greaterthan\")\n"
   ]
  },
  {
   "cell_type": "code",
   "execution_count": 12,
   "metadata": {},
   "outputs": [
    {
     "name": "stdout",
     "output_type": "stream",
     "text": [
      "node_a precision: 0.05812753646498386, node_a recall: 0.06874188603927033\n",
      "node_b precision: 8.174646540391886e-06, node_b recall: 9.10549981753144e-06\n"
     ]
    }
   ],
   "source": [
    "print(\"node_a precision: {}, node_a recall: {}\".format(node_a.precision, node_a.recall))\n",
    "print(\"node_b precision: {}, node_b recall: {}\".format(node_b.precision, node_b.recall))"
   ]
  },
  {
   "cell_type": "code",
   "execution_count": 17,
   "metadata": {},
   "outputs": [],
   "source": [
    "root.eta = 10"
   ]
  },
  {
   "cell_type": "code",
   "execution_count": 18,
   "metadata": {},
   "outputs": [
    {
     "name": "stdout",
     "output_type": "stream",
     "text": [
      "Root precision: 0.9999999999999999, Root recall: 0.9999589861176733\n"
     ]
    }
   ],
   "source": [
    "root.prec_recall_calc(direction='lessthan')\n",
    "print(\"Root precision: {}, Root recall: {}\".format(root.precision, root.recall))"
   ]
  },
  {
   "cell_type": "code",
   "execution_count": 37,
   "metadata": {},
   "outputs": [],
   "source": [
    "eta_test = np.linspace(-100,500,10000)\n",
    "precision_test = np.zeros(eta_test.shape)\n",
    "recall_test = np.zeros(eta_test.shape)"
   ]
  },
  {
   "cell_type": "code",
   "execution_count": 38,
   "metadata": {},
   "outputs": [],
   "source": [
    "for i, eta in enumerate(eta_test):\n",
    "    node_a1a.eta = eta\n",
    "    node_a1a.prec_recall_calc(direction=\"greaterthan\")\n",
    "    precision_test[i] = root.precision\n",
    "    recall_test[i] = root.recall"
   ]
  },
  {
   "cell_type": "markdown",
   "metadata": {},
   "source": [
    "Suppose we conditiong node_a on root firing. Then $D_{root}=1$"
   ]
  },
  {
   "cell_type": "code",
   "execution_count": 39,
   "metadata": {},
   "outputs": [
    {
     "data": {
      "image/png": "[encoded data removed]",
      "text/plain": [
       "<Figure size 640x480 with 1 Axes>"
      ]
     },
     "metadata": {},
     "output_type": "display_data"
    }
   ],
   "source": [
    "plt.figure()\n",
    "plt.plot(eta_test, precision_test, label=\"Precision\")\n",
    "plt.xlim=(-100,500)\n",
    "plt.ylim=(0,1)"
   ]
  },
  {
   "cell_type": "code",
   "execution_count": null,
   "metadata": {},
   "outputs": [],
   "source": []
  },
  {
   "cell_type": "code",
   "execution_count": null,
   "metadata": {},
   "outputs": [],
   "source": []
  }
 ],
 "metadata": {
  "kernelspec": {
   "display_name": "Python 3",
   "language": "python",
   "name": "python3"
  },
  "language_info": {
   "codemirror_mode": {
    "name": "ipython",
    "version": 3
   },
   "file_extension": ".py",
   "mimetype": "text/x-python",
   "name": "python",
   "nbconvert_exporter": "python",
   "pygments_lexer": "ipython3",
   "version": "3.10.16"
  },
  "orig_nbformat": 4
 },
 "nbformat": 4,
 "nbformat_minor": 2
}
