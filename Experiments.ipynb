{
 "cells": [
  {
   "cell_type": "code",
   "execution_count": 1,
   "metadata": {},
   "outputs": [],
   "source": [
    "import numpy as np\n",
    "import matplotlib.pyplot as plt\n",
    "import seaborn as sn \n",
    "import scipy.stats as stats\n",
    "import scipy as sp \n",
    "\n",
    "from TaxonomyNodeClass import TaxonomyNode"
   ]
  },
  {
   "cell_type": "code",
   "execution_count": 2,
   "metadata": {},
   "outputs": [],
   "source": [
    "root = TaxonomyNode(\"root\")"
   ]
  },
  {
   "cell_type": "code",
   "execution_count": 3,
   "metadata": {},
   "outputs": [],
   "source": [
    "# Create level 1 nodes\n",
    "node_a = TaxonomyNode(\"Node A\", parent=root)\n",
    "node_b = TaxonomyNode(\"Node B\", parent=root)\n",
    "# Create level 2 nodes\n",
    "node_a1 = TaxonomyNode(\"Node A1\", parent=node_a)\n",
    "node_a2 = TaxonomyNode(\"Node A2\", parent=node_a)\n",
    "node_b1 = TaxonomyNode(\"Node B1\", parent=node_b)    \n",
    "node_b2 = TaxonomyNode(\"Node B2\", parent=node_b)\n",
    "# Create level 3 nodes\n",
    "node_a1a = TaxonomyNode(\"Node A1a\", parent=node_a1, distribution_D_C = [stats.norm(loc=0, scale=1), stats.norm(loc=5, scale=5)], distribution_C = stats.bernoulli(p=.00001), eta=6)\n",
    "node_a1b = TaxonomyNode(\"Node A1b\", parent=node_a1, distribution_D_C = [stats.norm(loc=-3, scale=1), stats.norm(loc=5.5, scale=5)], distribution_C = stats.bernoulli(p=.01),eta =7)\n",
    "node_a2a = TaxonomyNode(\"Node A2a\", parent=node_a2, distribution_D_C = [stats.norm(loc=2, scale=1), stats.norm(loc=6, scale=5)], distribution_C = stats.bernoulli(p=.05),eta =8)\n",
    "node_a2b = TaxonomyNode(\"Node A2b\", parent=node_a2, distribution_D_C = [stats.norm(loc=-2, scale=1), stats.norm(loc=6.5, scale=5)], distribution_C = stats.bernoulli(p=.005),eta =9)\n",
    "node_b1a = TaxonomyNode(\"Node B1a\", parent=node_b1, distribution_D_C = [stats.norm(loc=3, scale=1), stats.norm(loc=7, scale=5)], distribution_C = stats.bernoulli(p=.001),eta =10)\n",
    "node_b1b = TaxonomyNode(\"Node B1b\", parent=node_b1, distribution_D_C = [stats.norm(loc=1, scale=1), stats.norm(loc=7.5, scale=5)], distribution_C = stats.bernoulli(p=.00005),eta =11)\n",
    "node_b2a = TaxonomyNode(\"Node B2a\", parent=node_b2, distribution_D_C = [stats.norm(loc=-1, scale=1), stats.norm(loc=8, scale=5)], distribution_C = stats.bernoulli(p=.1),eta =12)\n",
    "node_b2b = TaxonomyNode(\"Node B2b\", parent=node_b2, distribution_D_C = [stats.norm(loc=4, scale=1), stats.norm(loc=8.5, scale=5)], distribution_C = stats.bernoulli(p=.5),eta =13)"
   ]
  },
  {
   "cell_type": "code",
   "execution_count": 4,
   "metadata": {},
   "outputs": [],
   "source": [
    "node_b1b.prec_recall_calc()"
   ]
  },
  {
   "cell_type": "code",
   "execution_count": 5,
   "metadata": {},
   "outputs": [
    {
     "data": {
      "text/plain": [
       "array([[9.99950000e-01, 3.79018174e-05],\n",
       "       [7.61947203e-24, 1.20981826e-05]])"
      ]
     },
     "execution_count": 5,
     "metadata": {},
     "output_type": "execute_result"
    }
   ],
   "source": [
    "node_b1b.probability_matrix"
   ]
  },
  {
   "cell_type": "code",
   "execution_count": 6,
   "metadata": {},
   "outputs": [
    {
     "data": {
      "text/plain": [
       "[None, None]"
      ]
     },
     "execution_count": 6,
     "metadata": {},
     "output_type": "execute_result"
    }
   ],
   "source": [
    "[child.set_distribution_C() for child in node_a.children]\n",
    "[child.set_distribution_C() for child in node_b.children]\n",
    "[child.set_distribution_D_C() for child in node_a.children]\n",
    "[child.set_distribution_D_C() for child in node_b.children]\n",
    "[child.set_distribution_C() for child in root.children]\n",
    "[child.set_distribution_D_C() for child in root.children]"
   ]
  },
  {
   "cell_type": "code",
   "execution_count": 7,
   "metadata": {},
   "outputs": [],
   "source": [
    "root.set_distribution_C()\n",
    "root.set_distribution_D_C()"
   ]
  },
  {
   "cell_type": "code",
   "execution_count": 8,
   "metadata": {},
   "outputs": [],
   "source": [
    "node_a.eta = 10\n",
    "node_b.eta = 6\n",
    "node_a.prec_recall_calc()\n",
    "node_b.prec_recall_calc()\n"
   ]
  },
  {
   "cell_type": "code",
   "execution_count": 9,
   "metadata": {},
   "outputs": [
    {
     "name": "stdout",
     "output_type": "stream",
     "text": [
      "node_a precision: 0.9999999993520039, node_a recall: 0.9031995154143897\n",
      "node_b precision: 0.637677337720527, node_b recall: 0.9937903346742237\n"
     ]
    }
   ],
   "source": [
    "print(\"node_a precision: {}, node_a recall: {}\".format(node_a.precision, node_a.recall))\n",
    "print(\"node_b precision: {}, node_b recall: {}\".format(node_b.precision, node_b.recall))"
   ]
  },
  {
   "cell_type": "code",
   "execution_count": 10,
   "metadata": {},
   "outputs": [],
   "source": [
    "root.eta = 20"
   ]
  },
  {
   "cell_type": "code",
   "execution_count": 11,
   "metadata": {},
   "outputs": [
    {
     "name": "stdout",
     "output_type": "stream",
     "text": [
      "Root precision: 0.9999999943569546, Root recall: 0.9918952292953873\n"
     ]
    }
   ],
   "source": [
    "root.prec_recall_calc()\n",
    "print(\"Root precision: {}, Root recall: {}\".format(root.precision, root.recall))"
   ]
  },
  {
   "cell_type": "code",
   "execution_count": 12,
   "metadata": {},
   "outputs": [],
   "source": [
    "node_a.eta = 5"
   ]
  },
  {
   "cell_type": "code",
   "execution_count": 13,
   "metadata": {},
   "outputs": [],
   "source": [
    "node_a.prec_recall_calc()"
   ]
  },
  {
   "cell_type": "code",
   "execution_count": 14,
   "metadata": {},
   "outputs": [
    {
     "data": {
      "text/plain": [
       "0.9640696808870742"
      ]
     },
     "execution_count": 14,
     "metadata": {},
     "output_type": "execute_result"
    }
   ],
   "source": [
    "node_a.recall"
   ]
  },
  {
   "cell_type": "code",
   "execution_count": 15,
   "metadata": {},
   "outputs": [
    {
     "data": {
      "text/plain": [
       "0.9995214678784791"
      ]
     },
     "execution_count": 15,
     "metadata": {},
     "output_type": "execute_result"
    }
   ],
   "source": [
    "node_a.precision"
   ]
  },
  {
   "cell_type": "code",
   "execution_count": 16,
   "metadata": {},
   "outputs": [],
   "source": [
    "node_a1a.eta = 6"
   ]
  },
  {
   "cell_type": "code",
   "execution_count": 17,
   "metadata": {},
   "outputs": [],
   "source": [
    "node_a1a.prec_recall_calc()"
   ]
  },
  {
   "cell_type": "code",
   "execution_count": 18,
   "metadata": {},
   "outputs": [
    {
     "data": {
      "text/plain": [
       "0.9997655688041576"
      ]
     },
     "execution_count": 18,
     "metadata": {},
     "output_type": "execute_result"
    }
   ],
   "source": [
    "node_a1a.precision"
   ]
  },
  {
   "cell_type": "code",
   "execution_count": 19,
   "metadata": {},
   "outputs": [
    {
     "data": {
      "text/plain": [
       "0.420740290560897"
      ]
     },
     "execution_count": 19,
     "metadata": {},
     "output_type": "execute_result"
    }
   ],
   "source": [
    "node_a1a.recall"
   ]
  },
  {
   "cell_type": "code",
   "execution_count": 20,
   "metadata": {},
   "outputs": [],
   "source": [
    "node_a1a.eta = 0\n",
    "node_a1a.prec_recall_calc()"
   ]
  },
  {
   "cell_type": "code",
   "execution_count": 21,
   "metadata": {},
   "outputs": [
    {
     "data": {
      "text/plain": [
       "1.6826780046711615e-05"
      ]
     },
     "execution_count": 21,
     "metadata": {},
     "output_type": "execute_result"
    }
   ],
   "source": [
    "node_a1a.precision"
   ]
  },
  {
   "cell_type": "code",
   "execution_count": 22,
   "metadata": {},
   "outputs": [
    {
     "data": {
      "text/plain": [
       "0.8413447460685429"
      ]
     },
     "execution_count": 22,
     "metadata": {},
     "output_type": "execute_result"
    }
   ],
   "source": [
    "node_a1a.recall"
   ]
  },
  {
   "cell_type": "code",
   "execution_count": 26,
   "metadata": {},
   "outputs": [
    {
     "data": {
      "text/plain": [
       "array([[1, 2],\n",
       "       [3, 4]])"
      ]
     },
     "execution_count": 26,
     "metadata": {},
     "output_type": "execute_result"
    }
   ],
   "source": [
    "np.array([[1,2],[3,4]])"
   ]
  },
  {
   "cell_type": "code",
   "execution_count": null,
   "metadata": {},
   "outputs": [],
   "source": []
  }
 ],
 "metadata": {
  "kernelspec": {
   "display_name": "Python 3",
   "language": "python",
   "name": "python3"
  },
  "language_info": {
   "codemirror_mode": {
    "name": "ipython",
    "version": 3
   },
   "file_extension": ".py",
   "mimetype": "text/x-python",
   "name": "python",
   "nbconvert_exporter": "python",
   "pygments_lexer": "ipython3",
   "version": "3.10.16"
  },
  "orig_nbformat": 4
 },
 "nbformat": 4,
 "nbformat_minor": 2
}
