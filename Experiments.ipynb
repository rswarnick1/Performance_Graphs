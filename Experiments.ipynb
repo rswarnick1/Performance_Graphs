{
 "cells": [
  {
   "cell_type": "code",
   "execution_count": 1,
   "metadata": {},
   "outputs": [],
   "source": [
    "import numpy as np\n",
    "import matplotlib.pyplot as plt\n",
    "import seaborn as sn \n",
    "import scipy.stats as stats\n",
    "import scipy as sp \n",
    "\n",
    "from TaxonomyNodeClass import TaxonomyNode"
   ]
  },
  {
   "cell_type": "code",
   "execution_count": 2,
   "metadata": {},
   "outputs": [],
   "source": [
    "root = TaxonomyNode(\"root\")"
   ]
  },
  {
   "cell_type": "code",
   "execution_count": 3,
   "metadata": {},
   "outputs": [],
   "source": [
    "# Create level 1 nodes\n",
    "node_a = TaxonomyNode(\"Node A\", parent=root)\n",
    "node_b = TaxonomyNode(\"Node B\", parent=root)\n",
    "# Create level 2 nodes\n",
    "node_a1 = TaxonomyNode(\"Node A1\", parent=node_a)\n",
    "node_a2 = TaxonomyNode(\"Node A2\", parent=node_a)\n",
    "node_b1 = TaxonomyNode(\"Node B1\", parent=node_b)    \n",
    "node_b2 = TaxonomyNode(\"Node B2\", parent=node_b)\n",
    "# Create level 3 nodes\n",
    "node_a1a = TaxonomyNode(\"Node A1a\", parent=node_a1)\n",
    "node_a1b = TaxonomyNode(\"Node A1b\", parent=node_a1)\n",
    "node_a2a = TaxonomyNode(\"Node A2a\", parent=node_a2)\n",
    "node_a2b = TaxonomyNode(\"Node A2b\", parent=node_a2)\n",
    "node_b1a = TaxonomyNode(\"Node B1a\", parent=node_b1)\n",
    "node_b1b = TaxonomyNode(\"Node B1b\", parent=node_b1)\n",
    "node_b2a = TaxonomyNode(\"Node B2a\", parent=node_b2)\n",
    "node_b2b = TaxonomyNode(\"Node B2b\", parent=node_b2)"
   ]
  },
  {
   "cell_type": "code",
   "execution_count": 6,
   "metadata": {},
   "outputs": [
    {
     "ename": "AttributeError",
     "evalue": "'TaxonomyNode' object has no attribute 'descendents'",
     "output_type": "error",
     "traceback": [
      "\u001b[0;31m---------------------------------------------------------------------------\u001b[0m",
      "\u001b[0;31mAttributeError\u001b[0m                            Traceback (most recent call last)",
      "Cell \u001b[0;32mIn[6], line 1\u001b[0m\n\u001b[0;32m----> 1\u001b[0m root\u001b[39m.\u001b[39;49mdescendents\n",
      "\u001b[0;31mAttributeError\u001b[0m: 'TaxonomyNode' object has no attribute 'descendents'"
     ]
    }
   ],
   "source": [
    "root.descendents"
   ]
  },
  {
   "cell_type": "code",
   "execution_count": null,
   "metadata": {},
   "outputs": [],
   "source": []
  }
 ],
 "metadata": {
  "kernelspec": {
   "display_name": "Python 3",
   "language": "python",
   "name": "python3"
  },
  "language_info": {
   "codemirror_mode": {
    "name": "ipython",
    "version": 3
   },
   "file_extension": ".py",
   "mimetype": "text/x-python",
   "name": "python",
   "nbconvert_exporter": "python",
   "pygments_lexer": "ipython3",
   "version": "3.10.16"
  },
  "orig_nbformat": 4
 },
 "nbformat": 4,
 "nbformat_minor": 2
}
