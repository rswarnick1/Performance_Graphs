{
 "cells": [
  {
   "cell_type": "code",
   "execution_count": 21,
   "metadata": {},
   "outputs": [],
   "source": [
    "import numpy as np\n",
    "import matplotlib.pyplot as plt\n",
    "import seaborn as sn \n",
    "import scipy.stats as stats\n",
    "import scipy as sp \n",
    "\n",
    "from TaxonomyNodeClass import TaxonomyNode"
   ]
  },
  {
   "cell_type": "code",
   "execution_count": 22,
   "metadata": {},
   "outputs": [],
   "source": [
    "root = TaxonomyNode(\"root\")"
   ]
  },
  {
   "cell_type": "code",
   "execution_count": 23,
   "metadata": {},
   "outputs": [],
   "source": [
    "# Create level 1 nodes\n",
    "node_a = TaxonomyNode(\"Node A\", parent=root)\n",
    "node_b = TaxonomyNode(\"Node B\", parent=root)\n",
    "# Create level 2 nodes\n",
    "node_a1 = TaxonomyNode(\"Node A1\", parent=node_a)\n",
    "node_a2 = TaxonomyNode(\"Node A2\", parent=node_a)\n",
    "node_b1 = TaxonomyNode(\"Node B1\", parent=node_b)    \n",
    "node_b2 = TaxonomyNode(\"Node B2\", parent=node_b)\n",
    "# Create level 3 nodes\n",
    "node_a1a = TaxonomyNode(\"Node A1a\", parent=node_a1, distribution_D_C = [stats.norm(loc=0, scale=1), stats.norm(loc=5, scale=2)], distribution_C = stats.bernoulli(p=.00001), eta=6)\n",
    "node_a1b = TaxonomyNode(\"Node A1b\", parent=node_a1, distribution_D_C = [stats.norm(loc=-3, scale=1), stats.norm(loc=5.5, scale=2)], distribution_C = stats.bernoulli(p=.01),eta =7)\n",
    "node_a2a = TaxonomyNode(\"Node A2a\", parent=node_a2, distribution_D_C = [stats.norm(loc=2, scale=1), stats.norm(loc=6, scale=2)], distribution_C = stats.bernoulli(p=.05),eta =8)\n",
    "node_a2b = TaxonomyNode(\"Node A2b\", parent=node_a2, distribution_D_C = [stats.norm(loc=-2, scale=1), stats.norm(loc=6.5, scale=2)], distribution_C = stats.bernoulli(p=.005),eta =9)\n",
    "node_b1a = TaxonomyNode(\"Node B1a\", parent=node_b1, distribution_D_C = [stats.norm(loc=3, scale=1), stats.norm(loc=7, scale=2)], distribution_C = stats.bernoulli(p=.001),eta =10)\n",
    "node_b1b = TaxonomyNode(\"Node B1b\", parent=node_b1, distribution_D_C = [stats.norm(loc=1, scale=1), stats.norm(loc=7.5, scale=2)], distribution_C = stats.bernoulli(p=.00005),eta =11)\n",
    "node_b2a = TaxonomyNode(\"Node B2a\", parent=node_b2, distribution_D_C = [stats.norm(loc=-1, scale=1), stats.norm(loc=8, scale=2)], distribution_C = stats.bernoulli(p=.1),eta =12)\n",
    "node_b2b = TaxonomyNode(\"Node B2b\", parent=node_b2, distribution_D_C = [stats.norm(loc=4, scale=1), stats.norm(loc=8/5, scale=2)], distribution_C = stats.bernoulli(p=.5),eta =13)"
   ]
  },
  {
   "cell_type": "code",
   "execution_count": 24,
   "metadata": {},
   "outputs": [],
   "source": [
    "root.children[0].children[0].set_distribution_C()\n",
    "root.children[0].children[0].set_distribution_D_C()"
   ]
  },
  {
   "cell_type": "code",
   "execution_count": 25,
   "metadata": {},
   "outputs": [
    {
     "data": {
      "text/plain": [
       "<scipy.stats._distn_infrastructure.rv_discrete_frozen at 0x16b98f760>"
      ]
     },
     "execution_count": 25,
     "metadata": {},
     "output_type": "execute_result"
    }
   ],
   "source": [
    "root.children[0].children[0].distribution_C"
   ]
  },
  {
   "cell_type": "code",
   "execution_count": 26,
   "metadata": {},
   "outputs": [],
   "source": [
    "root.children[0].children[0].set_distribution_D_C()"
   ]
  },
  {
   "cell_type": "code",
   "execution_count": 41,
   "metadata": {},
   "outputs": [
    {
     "data": {
      "text/plain": [
       "[<scipy.stats._distn_infrastructure.rv_continuous_frozen at 0x16b68d3c0>,\n",
       " <scipy.stats._distn_infrastructure.rv_continuous_frozen at 0x16b9cb1c0>]"
      ]
     },
     "execution_count": 41,
     "metadata": {},
     "output_type": "execute_result"
    }
   ],
   "source": [
    "root.children[0].children[0].distribution_D_C"
   ]
  },
  {
   "cell_type": "code",
   "execution_count": 44,
   "metadata": {},
   "outputs": [
    {
     "data": {
      "text/plain": [
       "[None, None]"
      ]
     },
     "execution_count": 44,
     "metadata": {},
     "output_type": "execute_result"
    }
   ],
   "source": [
    "[child.set_distribution_C() for child in node_a.children]\n",
    "[child.set_distribution_C() for child in node_b.children]\n",
    "[child.set_distribution_D_C() for child in node_a.children]\n",
    "[child.set_distribution_D_C() for child in node_b.children]\n",
    "[child.set_distribution_C() for child in root.children]\n",
    "[child.set_distribution_D_C() for child in root.children]"
   ]
  },
  {
   "cell_type": "code",
   "execution_count": 50,
   "metadata": {},
   "outputs": [
    {
     "data": {
      "text/plain": [
       "[<scipy.stats._distn_infrastructure.rv_continuous_frozen at 0x16b8bf190>,\n",
       " <scipy.stats._distn_infrastructure.rv_continuous_frozen at 0x16b6e55a0>]"
      ]
     },
     "execution_count": 50,
     "metadata": {},
     "output_type": "execute_result"
    }
   ],
   "source": [
    "root.distribution_D_C"
   ]
  },
  {
   "cell_type": "code",
   "execution_count": 47,
   "metadata": {},
   "outputs": [],
   "source": [
    "root.set_distribution_C()\n",
    "root.set_distribution_D_C()"
   ]
  },
  {
   "cell_type": "code",
   "execution_count": 51,
   "metadata": {},
   "outputs": [],
   "source": [
    "root.eta = 10"
   ]
  },
  {
   "cell_type": "code",
   "execution_count": 52,
   "metadata": {},
   "outputs": [
    {
     "name": "stdout",
     "output_type": "stream",
     "text": [
      "Root precision: 0.07302151489795301, Root recall: 0.07158972827604095\n"
     ]
    }
   ],
   "source": [
    "root.prec_recall_calc()\n",
    "print(\"Root precision: {}, Root recall: {}\".format(root.precision, root.recall))"
   ]
  },
  {
   "cell_type": "code",
   "execution_count": null,
   "metadata": {},
   "outputs": [],
   "source": []
  }
 ],
 "metadata": {
  "kernelspec": {
   "display_name": "Python 3",
   "language": "python",
   "name": "python3"
  },
  "language_info": {
   "codemirror_mode": {
    "name": "ipython",
    "version": 3
   },
   "file_extension": ".py",
   "mimetype": "text/x-python",
   "name": "python",
   "nbconvert_exporter": "python",
   "pygments_lexer": "ipython3",
   "version": "3.10.16"
  },
  "orig_nbformat": 4
 },
 "nbformat": 4,
 "nbformat_minor": 2
}
